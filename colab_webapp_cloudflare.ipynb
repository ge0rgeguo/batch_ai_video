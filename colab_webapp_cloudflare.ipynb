{
  "cells": [
    {
      "cell_type": "markdown",
      "metadata": {},
      "source": [
        "# AI 批量视频生成平台 - Cloudflare Tunnel 版本\n",
        "\n",
        "使用自定义域名访问服务\n",
        "\n",
        "## 使用方法\n",
        "\n",
        "### 首次使用:\n",
        "1. 运行 Cell 0-2: 安装依赖\n",
        "2. 运行 Cell 3: 登录 Cloudflare (浏览器授权)\n",
        "3. 运行 Cell 4: 创建 Tunnel (记录名称)\n",
        "4. 运行 Cell 5: 配置 DNS\n",
        "5. 运行 Cell 6: 下载备份文件\n",
        "6. 修改 Cell 7 的配置\n",
        "7. 运行 Cell 7: 启动服务\n",
        "\n",
        "### 后续使用:\n",
        "运行 Cell 0-2, 然后运行 Cell 7 即可"
      ]
    },
    {
      "cell_type": "code",
      "execution_count": null,
      "metadata": {},
      "outputs": [],
      "source": [
        "# Cell 0: 克隆项目\n",
        "# !git clone https://github.com/ge0rgeguo/ecommerce_video_generation_ai.git 2>/dev/null || echo \"✅ 项目已存在\"\n",
        "# %cd ecommerce_video_generation_ai/ai_batch_generation_website"
      ]
    },
    {
      "cell_type": "code",
      "execution_count": null,
      "metadata": {},
      "outputs": [
        {
          "name": "stdout",
          "output_type": "stream",
          "text": [
            "✅ Python 依赖安装完成\n"
          ]
        }
      ],
      "source": [
        "# Cell 1: 安装 Python 依赖\n",
        "# !pip install -q fastapi uvicorn sqlalchemy bcrypt cryptography pillow nest_asyncio requests\n",
        "# print(\"✅ Python 依赖安装完成\")"
      ]
    },
    {
      "cell_type": "code",
      "execution_count": null,
      "metadata": {},
      "outputs": [
        {
          "name": "stdout",
          "output_type": "stream",
          "text": [
            "Password:sudo: a password is required\n",
            "zsh:1: command not found: cloudflared\n",
            "✅ cloudflared 安装完成\n"
          ]
        }
      ],
      "source": [
        "# Cell 2: 安装 cloudflared\n",
        "# ⚠️ 根据环境选择运行对应的命令\n",
        "\n",
        "# ============================================================\n",
        "# 🐧 Colab/Linux 环境 (Google Colab 运行这个)\n",
        "# ============================================================\n",
        "# !wget -q https://github.com/cloudflare/cloudflared/releases/latest/download/cloudflared-linux-amd64.deb\n",
        "# !dpkg -i cloudflared-linux-amd64.deb 2>/dev/null\n",
        "# !cloudflared --version\n",
        "# print(\"✅ cloudflared 安装完成 (Linux)\")\n",
        "\n",
        "# ============================================================\n",
        "# 🍎 本地 Mac 环境 (本地测试运行这个)\n",
        "# ============================================================\n",
        "# 方法 1: 使用 Homebrew (推荐)\n",
        "# !brew install cloudflared\n",
        "\n",
        "# 方法 2: 手动安装 (Apple Silicon)\n",
        "# !wget -q https://github.com/cloudflare/cloudflared/releases/latest/download/cloudflared-darwin-arm64.tgz\n",
        "# !tar -xzf cloudflared-darwin-arm64.tgz\n",
        "# !chmod +x cloudflared\n",
        "# !sudo mv cloudflared /usr/local/bin/\n",
        "# !rm cloudflared-darwin-arm64.tgz\n",
        "# !cloudflared --version\n",
        "# print(\"✅ cloudflared 安装完成 (Mac)\")\n"
      ]
    },
    {
      "cell_type": "markdown",
      "metadata": {},
      "source": [
        "---\n",
        "## 首次配置 (只需运行一次)\n",
        "---"
      ]
    },
    {
      "cell_type": "code",
      "execution_count": 17,
      "metadata": {},
      "outputs": [
        {
          "name": "stdout",
          "output_type": "stream",
          "text": [
            "A browser window should have opened at the following URL:\n",
            "\n",
            "https://dash.cloudflare.com/argotunnel?aud=&callback=https%3A%2F%2Flogin.cloudflareaccess.org%2FbRMIZ5MXbFtzdwipRor85NHT8jkluEPPw8W-q3-n4R8%3D\n",
            "\n",
            "If the browser failed to open, please visit the URL above directly in your browser.\n",
            "\u001b[90m2025-10-21T03:28:21Z\u001b[0m \u001b[32mINF\u001b[0m You have successfully logged in.\n",
            "If you wish to copy your credentials to a server, they have been saved to:\n",
            "/Users/zyma/.cloudflared/cert.pem\n",
            "\n"
          ]
        }
      ],
      "source": [
        "# Cell 3: 登录 Cloudflare (首次需要)\n",
        "# ⚠️ 会输出 URL,在浏览器中打开并授权\n",
        "!cloudflared tunnel login"
      ]
    },
    {
      "cell_type": "code",
      "execution_count": 18,
      "metadata": {},
      "outputs": [
        {
          "name": "stdout",
          "output_type": "stream",
          "text": [
            "Tunnel credentials written to /Users/zyma/.cloudflared/681cc3ac-997f-441b-8482-138252909ed4.json. cloudflared chose this file based on where your origin certificate was found. Keep this file secret. To revoke these credentials, delete the tunnel.\n",
            "\n",
            "Created tunnel colab-webapp-172bb0f0 with id 681cc3ac-997f-441b-8482-138252909ed4\n",
            "\n",
            "✅ Tunnel 名称: colab-webapp-172bb0f0\n",
            "⚠️ 请记住这个名称,复制到 Cell 7\n"
          ]
        }
      ],
      "source": [
        "# Cell 4: 创建 Tunnel (首次需要)\n",
        "import uuid\n",
        "tunnel_name = f\"colab-webapp-{uuid.uuid4().hex[:8]}\"\n",
        "!cloudflared tunnel create {tunnel_name}\n",
        "print(f\"\\n✅ Tunnel 名称: {tunnel_name}\")\n",
        "print(\"⚠️ 请记住这个名称,复制到 Cell 7\")"
      ]
    },
    {
      "cell_type": "code",
      "execution_count": null,
      "metadata": {},
      "outputs": [
        {
          "name": "stdout",
          "output_type": "stream",
          "text": [
            "\u001b[90m2025-10-21T03:30:26Z\u001b[0m \u001b[32mINF\u001b[0m Added CNAME zuoshipin.net which will route to this tunnel \u001b[36mtunnelID=\u001b[0m22e49757-f9a7-4a4e-aa59-1f3b9785f46b\n",
            "✅ DNS 已配置: zuoshipin.net\n"
          ]
        }
      ],
      "source": [
        "# Cell 5: 配置 DNS (首次需要)\n",
        "# ⚠️ 修改这两个变量\n",
        "TUNNEL_NAME = \"colab-webapp-172bb0f0\"  # 替换为 Cell 4 的名称\n",
        "YOUR_DOMAIN = \"zuoshipin.net\"        # 替换为你的域名\n",
        "\n",
        "!cloudflared tunnel route dns {TUNNEL_NAME} {YOUR_DOMAIN}\n",
        "print(f\"✅ DNS 已配置: {YOUR_DOMAIN}\")"
      ]
    },
    {
      "cell_type": "code",
      "execution_count": 10,
      "metadata": {},
      "outputs": [
        {
          "ename": "ModuleNotFoundError",
          "evalue": "No module named 'google.colab'",
          "output_type": "error",
          "traceback": [
            "\u001b[0;31m---------------------------------------------------------------------------\u001b[0m",
            "\u001b[0;31mModuleNotFoundError\u001b[0m                       Traceback (most recent call last)",
            "Input \u001b[0;32mIn [10]\u001b[0m, in \u001b[0;36m<cell line: 2>\u001b[0;34m()\u001b[0m\n\u001b[1;32m      1\u001b[0m \u001b[38;5;66;03m# Cell 6: 下载认证文件备份 (首次建议运行)\u001b[39;00m\n\u001b[0;32m----> 2\u001b[0m \u001b[38;5;28;01mfrom\u001b[39;00m\u001b[38;5;250m \u001b[39m\u001b[38;5;21;01mgoogle\u001b[39;00m\u001b[38;5;21;01m.\u001b[39;00m\u001b[38;5;21;01mcolab\u001b[39;00m\u001b[38;5;250m \u001b[39m\u001b[38;5;28;01mimport\u001b[39;00m files\n\u001b[1;32m      3\u001b[0m \u001b[38;5;28;01mimport\u001b[39;00m\u001b[38;5;250m \u001b[39m\u001b[38;5;21;01mos\u001b[39;00m\u001b[38;5;241m,\u001b[39m\u001b[38;5;250m \u001b[39m\u001b[38;5;21;01mglob\u001b[39;00m\n\u001b[1;32m      5\u001b[0m \u001b[38;5;28;01mif\u001b[39;00m os\u001b[38;5;241m.\u001b[39mpath\u001b[38;5;241m.\u001b[39mexists(\u001b[38;5;124m'\u001b[39m\u001b[38;5;124m/root/.cloudflared/cert.pem\u001b[39m\u001b[38;5;124m'\u001b[39m):\n",
            "\u001b[0;31mModuleNotFoundError\u001b[0m: No module named 'google.colab'"
          ]
        }
      ],
      "source": [
        "# Cell 6: 下载认证文件备份 (首次建议运行)\n",
        "from google.colab import files\n",
        "import os, glob\n",
        "\n",
        "if os.path.exists('/root/.cloudflared/cert.pem'):\n",
        "    files.download('/root/.cloudflared/cert.pem')\n",
        "    print(\"✅ cert.pem 已下载\")\n",
        "\n",
        "for f in glob.glob('/root/.cloudflared/*.json'):\n",
        "    files.download(f)\n",
        "    print(f\"✅ {os.path.basename(f)} 已下载\")\n",
        "\n",
        "print(\"\\n💾 请保存这些文件,下次使用时运行 Cell 8 上传\")"
      ]
    },
    {
      "cell_type": "markdown",
      "metadata": {},
      "source": [
        "---\n",
        "## 启动服务 (每次运行)\n",
        "---"
      ]
    },
    {
      "cell_type": "code",
      "execution_count": 1,
      "metadata": {},
      "outputs": [],
      "source": [
        "!python -m venv colab_website_venv\n",
        "!source colab_website_venv/bin/activate"
      ]
    },
    {
      "cell_type": "code",
      "execution_count": null,
      "metadata": {},
      "outputs": [
        {
          "name": "stdout",
          "output_type": "stream",
          "text": [
            "✅ 找到认证文件: 681cc3ac-997f-441b-8482-138252909ed4.json\n",
            "============================================================\n",
            "🌐 域名: https://zuoshipin.net\n",
            "👤 登录: admin / admin000\n",
            "============================================================\n"
          ]
        },
        {
          "name": "stderr",
          "output_type": "stream",
          "text": [
            "2025-10-21T03:32:17Z INF Starting tunnel tunnelID=681cc3ac-997f-441b-8482-138252909ed4\n",
            "2025-10-21T03:32:17Z INF Version 2025.10.0 (Checksum 33c410f017b0d83b8d9c818cedf5cacd9cb4b1ccfc95af961a94850f0abf3696)\n",
            "2025-10-21T03:32:17Z INF GOOS: darwin, GOVersion: go1.24.2, GoArch: arm64\n",
            "2025-10-21T03:32:17Z INF Settings: map[cred-file:/Users/zyma/.cloudflared/681cc3ac-997f-441b-8482-138252909ed4.json credentials-file:/Users/zyma/.cloudflared/681cc3ac-997f-441b-8482-138252909ed4.json]\n",
            "2025-10-21T03:32:17Z INF Autoupdate frequency is set autoupdateFreq=86400000\n"
          ]
        },
        {
          "name": "stdout",
          "output_type": "stream",
          "text": [
            "🚀 启动服务...\n",
            "\n"
          ]
        },
        {
          "name": "stderr",
          "output_type": "stream",
          "text": [
            "/opt/anaconda3/lib/python3.9/site-packages/pydantic/_migration.py:283: UserWarning: `pydantic.generics:GenericModel` has been moved to `pydantic.BaseModel`.\n",
            "  warnings.warn(f'`{import_path}` has been moved to `{new_location}`.')\n",
            "INFO:     Started server process [64543]\n",
            "INFO:     Waiting for application startup.\n",
            "INFO:     Application startup complete.\n",
            "INFO:     Uvicorn running on http://0.0.0.0:8888 (Press CTRL+C to quit)\n"
          ]
        },
        {
          "name": "stdout",
          "output_type": "stream",
          "text": [
            "[startup] Background executor starting...\n",
            "[startup] Cleanup loop started. Public dir: /Users/zyma/Projects/ecommerce_video_generation_ai/ai_batch_generation_website/public\n"
          ]
        },
        {
          "name": "stderr",
          "output_type": "stream",
          "text": [
            "2025-10-21T03:32:27Z ERR Failed to fetch features, default to disable error=\"lookup cfd-features.argotunnel.com on 198.18.0.2:53: dial udp 198.18.0.2:53: i/o timeout\"\n",
            "2025-10-21T03:32:27Z INF Generated Connector ID: 70363800-3cb1-4f08-a530-51493deac89c\n",
            "2025-10-21T03:32:47Z WRN Unable to lookup protocol percentage.\n",
            "2025-10-21T03:32:47Z INF Initial protocol http2\n",
            "2025-10-21T03:32:47Z INF ICMP proxy will use 192.168.2.52 as source for IPv4\n",
            "2025-10-21T03:32:47Z INF ICMP proxy will use fe80::cd0:8187:cc00:3864 in zone en0 as source for IPv6\n",
            "2025-10-21T03:32:47Z INF Created ICMP proxy listening on 192.168.2.52:0\n",
            "2025-10-21T03:33:00Z INF ICMP proxy will use 192.168.2.52 as source for IPv4\n",
            "2025-10-21T03:33:00Z INF ICMP proxy will use fe80::cd0:8187:cc00:3864 in zone en0 as source for IPv6\n",
            "2025-10-21T03:33:00Z INF Starting metrics server on 127.0.0.1:20241/metrics\n",
            "2025-10-21T03:33:11Z INF You requested 4 HA connections but I can give you at most 2.\n",
            "2025-10-21T03:33:13Z INF Registered tunnel connection connIndex=0 connection=1e80552b-9048-423e-86f6-79d5c169daa5 event=0 ip=198.18.0.58 location=lax06 protocol=http2\n",
            "2025-10-21T03:33:15Z INF Registered tunnel connection connIndex=1 connection=3ec27e5e-fea3-4bdd-881e-c86a9be01784 event=0 ip=198.18.0.57 location=lax10 protocol=http2\n",
            "2025-10-21T03:33:46Z INF Initiating graceful shutdown due to signal interrupt ...\n",
            "INFO:     Shutting down\n",
            "INFO:     Waiting for application shutdown.\n",
            "INFO:     Application shutdown complete.\n",
            "INFO:     Finished server process [64543]\n"
          ]
        },
        {
          "name": "stderr",
          "output_type": "stream",
          "text": [
            "2025-10-21T03:33:46Z INF Unregistered tunnel connection connIndex=1 event=0 ip=198.18.0.57\n",
            "2025-10-21T03:33:46Z INF Unregistered tunnel connection connIndex=0 event=0 ip=198.18.0.58\n",
            "2025-10-21T03:33:46Z INF Retrying connection in up to 1s connIndex=1 event=0 ip=198.18.0.57\n",
            "2025-10-21T03:33:46Z ERR Connection terminated connIndex=1\n",
            "2025-10-21T03:33:46Z INF Retrying connection in up to 1s connIndex=0 event=0 ip=198.18.0.58\n",
            "2025-10-21T03:33:46Z ERR Connection terminated connIndex=0\n",
            "2025-10-21T03:33:46Z ERR no more connections active and exiting\n",
            "2025-10-21T03:33:46Z INF Tunnel server stopped\n",
            "2025-10-21T03:33:46Z INF icmp router terminated error=\"read udp 192.168.2.52:0: raw-read udp 192.168.2.52:0: use of closed network connection\"\n",
            "2025-10-21T03:33:46Z INF Metrics server stopped\n"
          ]
        }
      ],
      "source": [
        "# Cell 7: 启动服务\n",
        "# ⚠️ 修改以下配置\n",
        "\n",
        "import os, sys, nest_asyncio, uvicorn, subprocess, threading, time\n",
        "from pathlib import Path\n",
        "\n",
        "# ==================== 配置 ====================\n",
        "TUNNEL_NAME = \"colab-webapp-172bb0f0\"  # 替换为 Cell 4 的名称\n",
        "YOUR_DOMAIN = \"zuoshipin.net\"        # 替换为你的域名  \n",
        "YUNWU_API_KEY = \"sk-LRZGHDhEJzL2DKPJ4DHtz3tfCfU8VQzymAtKvuI9WyspsVFh\"           # Yunwu API 密钥\n",
        "# =============================================\n",
        "\n",
        "os.environ[\"YUNWU_API_KEY\"] = YUNWU_API_KEY\n",
        "os.environ[\"PUBLIC_BASE_URL\"] = f\"https://{YOUR_DOMAIN}\"\n",
        "if \"DISABLE_BACKGROUND\" in os.environ:\n",
        "    del os.environ[\"DISABLE_BACKGROUND\"]\n",
        "\n",
        "# 根据环境选择正确的目录\n",
        "import platform\n",
        "import glob\n",
        "if platform.system() == \"Linux\":\n",
        "    # Colab 环境\n",
        "    cloudflared_dir = Path(\"/root/.cloudflared\")\n",
        "else:\n",
        "    # 本地 Mac/Windows\n",
        "    cloudflared_dir = Path.home() / \".cloudflared\"\n",
        "\n",
        "cloudflared_dir.mkdir(parents=True, exist_ok=True)\n",
        "\n",
        "# 查找 credentials 文件 (cloudflared 使用 tunnel ID 作为文件名,而不是 tunnel name)\n",
        "# 文件名格式: <uuid>.json\n",
        "creds_files = list(cloudflared_dir.glob(\"*.json\"))\n",
        "\n",
        "if not creds_files:\n",
        "    print(f\"❌ 错误: 在 {cloudflared_dir} 中找不到任何 .json 认证文件\")\n",
        "    print(f\"💡 解决方案:\")\n",
        "    print(f\"   1. 如果是首次配置,运行 Cell 3-6\")\n",
        "    print(f\"   2. 如果已有备份,运行 Cell 8 上传认证文件\")\n",
        "    print(f\"   3. 或者重新运行 'cloudflared tunnel login' 和 'cloudflared tunnel create'\")\n",
        "    raise FileNotFoundError(f\"No credentials file found in {cloudflared_dir}\")\n",
        "\n",
        "# 使用第一个找到的 .json 文件\n",
        "creds_file = creds_files[0]\n",
        "print(f\"✅ 找到认证文件: {creds_file.name}\")\n",
        "\n",
        "config_file = cloudflared_dir / \"config.yml\"\n",
        "with open(config_file, \"w\") as f:\n",
        "    f.write(f\"\"\"tunnel: {TUNNEL_NAME}\n",
        "credentials-file: {str(creds_file)}\n",
        "ingress:\n",
        "  - hostname: {YOUR_DOMAIN}\n",
        "    service: http://localhost:8888\n",
        "  - service: http_status:404\n",
        "\"\"\")\n",
        "\n",
        "print(\"=\"*60)\n",
        "print(f\"🌐 域名: https://{YOUR_DOMAIN}\")\n",
        "print(f\"👤 登录: admin / admin000\")\n",
        "print(\"=\"*60)\n",
        "\n",
        "# 后台启动 Cloudflare Tunnel\n",
        "threading.Thread(\n",
        "    target=lambda: subprocess.run([\"cloudflared\", \"tunnel\", \"run\", TUNNEL_NAME]),\n",
        "    daemon=True\n",
        ").start()\n",
        "\n",
        "sys.path.append(os.getcwd())\n",
        "nest_asyncio.apply()\n",
        "time.sleep(3)\n",
        "\n",
        "print(\"🚀 启动服务...\\n\")\n",
        "config = uvicorn.Config(\"server.app:app\", host=\"0.0.0.0\", port=8888, log_level=\"info\")\n",
        "server = uvicorn.Server(config)\n",
        "await server.serve()"
      ]
    },
    {
      "cell_type": "markdown",
      "metadata": {},
      "source": [
        "---\n",
        "## 恢复认证文件 (可选)\n",
        "---"
      ]
    },
    {
      "cell_type": "code",
      "execution_count": null,
      "metadata": {},
      "outputs": [],
      "source": [
        "# Cell 8: 上传认证文件\n",
        "from google.colab import files\n",
        "import shutil, os\n",
        "\n",
        "uploaded = files.upload()\n",
        "os.makedirs('/root/.cloudflared', exist_ok=True)\n",
        "\n",
        "for filename in uploaded.keys():\n",
        "    shutil.move(filename, f'/root/.cloudflared/{filename}')\n",
        "    print(f\"✅ {filename} 已恢复\")\n",
        "\n",
        "print(\"\\n✅ 现在可以运行 Cell 7 启动服务\")"
      ]
    }
  ],
  "metadata": {
    "colab": {
      "provenance": []
    },
    "kernelspec": {
      "display_name": "base",
      "language": "python",
      "name": "python3"
    },
    "language_info": {
      "codemirror_mode": {
        "name": "ipython",
        "version": 3
      },
      "file_extension": ".py",
      "mimetype": "text/x-python",
      "name": "python",
      "nbconvert_exporter": "python",
      "pygments_lexer": "ipython3",
      "version": "3.9.12"
    }
  },
  "nbformat": 4,
  "nbformat_minor": 0
}
